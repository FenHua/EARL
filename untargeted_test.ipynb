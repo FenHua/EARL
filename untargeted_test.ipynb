{
 "cells": [
  {
   "cell_type": "code",
   "execution_count": null,
   "metadata": {
    "scrolled": true
   },
   "outputs": [],
   "source": [
    "import sys\n",
    "import torch\n",
    "import numpy as np\n",
    "from Utils.utils import *\n",
    "import torch.nn as nn\n",
    "from attack.untargetedAttack import attack\n",
    "from model_wrapper.vid_model_top_k import C3D_K_Model,\\\n",
    "    LRCN_K_Model,I3D_K_Model  #  return K results (default K=1)\n",
    "\n",
    "len_limit = 1\n",
    "image_models = ['resnet50']\n",
    "gpus = [0]  # GPU setting\n",
    "# The GPUs are visible to the system\n",
    "os.environ[\"CUDA_VISIBLE_DEVICES\"] = ', '.join([str(gpu) for gpu in gpus])\n",
    "model_name = 'c3d'       # model name\n",
    "dataset_name = 'hmdb51'  # dataset name\n",
    "\n",
    "# ---------------------------start-----------------------------------------------\n",
    "print('load {} model and {} dataset'.format(model_name,dataset_name))\n",
    "test_data = generate_dataset(model_name, dataset_name)  # get testing dataset\n",
    "model = generate_model(model_name, dataset_name)    # get a recognition model\n",
    "model.cuda()  # GPU\n",
    "if model_name == 'c3d':\n",
    "    vid_model = C3D_K_Model(model)\n",
    "elif model_name == 'i3d':\n",
    "    vid_model = I3D_K_Model(model)\n",
    "else:\n",
    "    vid_model = LRCN_K_Model(model)\n",
    "# gets ids of the samples to be attacked\n",
    "attacked_ids = get_samples(model_name, dataset_name)\n",
    "def GetPairs(test_data,idx):\n",
    "    x0, label = test_data[attacked_ids[idx]]\n",
    "    x0 = image_to_vector(model_name, x0)\n",
    "    return x0.cuda(),label[1]\n",
    "\n",
    "vid,vid_label = GetPairs(test_data,2)\n",
    "res, iter_num, adv_vid, keylen= attack(vid_model, vid, vid_label, len_limit, image_models, gpus)\n",
    "if res:\n",
    "    # success\n",
    "    AP = pertubation(vid, adv_vid)\n",
    "    print('Untargeted attack succeed using {} quries'.format(iter_num))\n",
    "    print('The average pertubation of video is: {}'.format(AP.cpu()))\n",
    "else:\n",
    "    # fail\n",
    "    print('--------------------Attack Fails-----------------------')"
   ]
  },
  {
   "cell_type": "code",
   "execution_count": null,
   "metadata": {},
   "outputs": [],
   "source": [
    "import sys\n",
    "import torch\n",
    "import numpy as np\n",
    "from Utils.utils import *\n",
    "import torch.nn as nn\n",
    "from attack.untargetedAttack import attack\n",
    "from model_wrapper.vid_model_top_k import C3D_K_Model,\\\n",
    "    LRCN_K_Model,I3D_K_Model  # return K results (default K=1)\n",
    "\n",
    "model_name = 'lrcn'\n",
    "dataset_name = 'hmdb51'\n",
    "\n",
    "# ---------------------------start-----------------------------------------------\n",
    "print('load {} model and {} dataset'.format(model_name,dataset_name))\n",
    "test_data = generate_dataset(model_name, dataset_name)\n",
    "model = generate_model(model_name, dataset_name)\n",
    "x0, label = test_data[1064]\n",
    "x0 = image_to_vector(model_name, x0)"
   ]
  },
  {
   "cell_type": "code",
   "execution_count": null,
   "metadata": {},
   "outputs": [],
   "source": [
    "label"
   ]
  },
  {
   "cell_type": "code",
   "execution_count": null,
   "metadata": {},
   "outputs": [],
   "source": [
    "np.save('vid.npy',x0.cpu().numpy())"
   ]
  },
  {
   "cell_type": "code",
   "execution_count": null,
   "metadata": {},
   "outputs": [],
   "source": [
    "attacked_ids = get_samples(model_name, dataset_name)\n",
    "for i in range(100):\n",
    "    x,l =test_data[]"
   ]
  },
  {
   "cell_type": "code",
   "execution_count": null,
   "metadata": {},
   "outputs": [],
   "source": [
    "target_label"
   ]
  },
  {
   "cell_type": "code",
   "execution_count": null,
   "metadata": {},
   "outputs": [],
   "source": [
    "vid_t.size()"
   ]
  },
  {
   "cell_type": "code",
   "execution_count": 18,
   "metadata": {},
   "outputs": [],
   "source": [
    "vids = np.load('results/c3d_hmdb51/vid-194/adv_vid.npy')"
   ]
  },
  {
   "cell_type": "code",
   "execution_count": 19,
   "metadata": {},
   "outputs": [],
   "source": [
    "vids = torch.from_numpy(vids)\n",
    "#vids = image_to_vector(model_name, vids)\n",
    "vids = vids.cuda()\n",
    "a,b,c =vid_model(vids[None,:])"
   ]
  },
  {
   "cell_type": "code",
   "execution_count": 26,
   "metadata": {
    "scrolled": true
   },
   "outputs": [
    {
     "name": "stdout",
     "output_type": "stream",
     "text": [
      "Prelinger_ActYourA1949_throw_u_nm_np1_ri_med_13\n"
     ]
    }
   ],
   "source": [
    "for i in range(len(test_data)):\n",
    "    _,label = test_data[i]\n",
    "    if label[1]==47:\n",
    "        print(label[0])\n",
    "        break;"
   ]
  },
  {
   "cell_type": "code",
   "execution_count": 24,
   "metadata": {},
   "outputs": [
    {
     "data": {
      "text/plain": [
       "tensor([[43]], device='cuda:0')"
      ]
     },
     "execution_count": 24,
     "metadata": {},
     "output_type": "execute_result"
    }
   ],
   "source": [
    "b"
   ]
  },
  {
   "cell_type": "code",
   "execution_count": null,
   "metadata": {},
   "outputs": [],
   "source": []
  }
 ],
 "metadata": {
  "kernelspec": {
   "display_name": "Python 3",
   "language": "python",
   "name": "python3"
  },
  "language_info": {
   "codemirror_mode": {
    "name": "ipython",
    "version": 3
   },
   "file_extension": ".py",
   "mimetype": "text/x-python",
   "name": "python",
   "nbconvert_exporter": "python",
   "pygments_lexer": "ipython3",
   "version": "3.7.3"
  },
  "pycharm": {
   "stem_cell": {
    "cell_type": "raw",
    "source": [],
    "metadata": {
     "collapsed": false
    }
   }
  }
 },
 "nbformat": 4,
 "nbformat_minor": 2
}